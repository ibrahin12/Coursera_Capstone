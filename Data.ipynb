{
  "nbformat": 4,
  "nbformat_minor": 0,
  "metadata": {
    "colab": {
      "name": "Untitled0.ipynb",
      "provenance": [],
      "authorship_tag": "ABX9TyOEuKxzZxKSu6QHKrrdQOsQ",
      "include_colab_link": true
    },
    "kernelspec": {
      "name": "python3",
      "display_name": "Python 3"
    }
  },
  "cells": [
    {
      "cell_type": "markdown",
      "metadata": {
        "id": "view-in-github",
        "colab_type": "text"
      },
      "source": [
        "<a href=\"https://colab.research.google.com/github/ibrahin12/Coursera_Capstone/blob/master/Data.ipynb\" target=\"_parent\"><img src=\"https://colab.research.google.com/assets/colab-badge.svg\" alt=\"Open In Colab\"/></a>"
      ]
    },
    {
      "cell_type": "markdown",
      "metadata": {
        "id": "8tNqnqt3rLuT",
        "colab_type": "text"
      },
      "source": [
        "# 2.  Description of Data/How It Will Be Used\n",
        "2a. K-Means Clustering:\n",
        "Using an online html dataset https://data.mongabay.com/igapo/zip_codes/metropolitan-areas/metro-zip/Buffalo-Niagara%20Falls%20(NY)1.html which contains postal codes of Buffalo- Niagara Falls Metro Area, allows for clustering the dataset, wrangling the dataset, and reading the dataset into a pandas dataframe. The venue information obtained from Foursquare API will allow neighborhoods to be clustered based on similar venues in order to see where the best location would be for the restaurant. \n",
        "## 2b. Foursquare API:\n",
        "Location data is an important factor to look at and is helpful in describing factors such as geographical locations. Given the location, we are then able to see if there are restaurants nearby. For determining where to open the Buffalo Wings restaurant, FourSquare API will be used to search for the latitudes and longitudes of the postal codes obtained from the K-Means clustering portion. This is done in order to obtain information about nearby venues, the category of the venues as well. If there was more than one town it was listed under the shared postal code so that each postal code appeared once. This provided the output of the different zipcodes that needed to be examined to obtain the venues nearby. \n",
        "\n",
        "## 2c.LatLong.net:\n",
        "This was used in order to obtain the accurate zip codes for Buffalo that was used for obtaining the venue information from Foursquare API.\n",
        "\n",
        "## 2d. Folium Markers Map:\n",
        "\n",
        "Folium was used to create a map that has markers to indicate the population density of each neighborhood. If there are more restaurants that provide wings nearby, then that might be a good location to open up a business since consumers are familiar with the older established restaurants and are likely to go in that vicinity. Data was obtained from https://statisticalatlas.com/metro-area/New-York/Buffalo/Population. This website provided the population density for each subdivision. I then found the subdivisions latitudes and longitudes on Google Maps and used the population density obtained from statistical atlas to create a csv file. Once the file was made a map was created with a marker to indicate the population density in each subdivision. \n",
        "\n",
        "## 2e. Google Maps:\n",
        "This was used in order to obtain the latitude and longitudes of the neighborhoods used for the folium markers map.\n",
        "\n"
      ]
    },
    {
      "cell_type": "code",
      "metadata": {
        "id": "qKGvIUGZrVG-",
        "colab_type": "code",
        "colab": {}
      },
      "source": [
        ""
      ],
      "execution_count": 0,
      "outputs": []
    }
  ]
}