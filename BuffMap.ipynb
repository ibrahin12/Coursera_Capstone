{
  "nbformat": 4,
  "nbformat_minor": 0,
  "metadata": {
    "colab": {
      "name": "BuffMap.ipynb",
      "provenance": [],
      "toc_visible": true,
      "authorship_tag": "ABX9TyN0cG3i0PYtgxu5xN7RB+QH",
      "include_colab_link": true
    },
    "kernelspec": {
      "name": "python3",
      "display_name": "Python 3"
    }
  },
  "cells": [
    {
      "cell_type": "markdown",
      "metadata": {
        "id": "view-in-github",
        "colab_type": "text"
      },
      "source": [
        "<a href=\"https://colab.research.google.com/github/ibrahin12/Coursera_Capstone/blob/master/BuffMap.ipynb\" target=\"_parent\"><img src=\"https://colab.research.google.com/assets/colab-badge.svg\" alt=\"Open In Colab\"/></a>"
      ]
    },
    {
      "cell_type": "code",
      "metadata": {
        "id": "L-_f9LF01c3D",
        "colab_type": "code",
        "colab": {}
      },
      "source": [
        "import numpy as np  \n",
        "import pandas as pd "
      ],
      "execution_count": 0,
      "outputs": []
    },
    {
      "cell_type": "code",
      "metadata": {
        "id": "wY_ru92q1o_k",
        "colab_type": "code",
        "outputId": "031194ec-43f6-42fc-cda8-b853f2a211af",
        "colab": {
          "base_uri": "https://localhost:8080/",
          "height": 34
        }
      },
      "source": [
        "\n",
        "import folium\n",
        "\n",
        "print('Folium installed and imported!')"
      ],
      "execution_count": 0,
      "outputs": [
        {
          "output_type": "stream",
          "text": [
            "Folium installed and imported!\n"
          ],
          "name": "stdout"
        }
      ]
    },
    {
      "cell_type": "code",
      "metadata": {
        "id": "z5FFitgB1q0N",
        "colab_type": "code",
        "outputId": "8cf1db24-69ee-4573-cda0-f706f5f31f13",
        "colab": {
          "base_uri": "https://localhost:8080/",
          "height": 915
        }
      },
      "source": [
        "# define the world map centered around Buffalo with a low zoom level\n",
        "world_map = folium.Map(location=[42.8864, -78.8784], zoom_start=4)\n",
        "\n",
        "# display world map\n",
        "world_map"
      ],
      "execution_count": 0,
      "outputs": [
        {
          "output_type": "execute_result",
          "data": {
            "text/html": [
              "<div style=\"width:100%;\"><div style=\"position:relative;width:100%;height:0;padding-bottom:60%;\"><iframe src=\"data:text/html;charset=utf-8;base64,PCFET0NUWVBFIGh0bWw+CjxoZWFkPiAgICAKICAgIDxtZXRhIGh0dHAtZXF1aXY9ImNvbnRlbnQtdHlwZSIgY29udGVudD0idGV4dC9odG1sOyBjaGFyc2V0PVVURi04IiAvPgogICAgPHNjcmlwdD5MX1BSRUZFUl9DQU5WQVM9ZmFsc2U7IExfTk9fVE9VQ0g9ZmFsc2U7IExfRElTQUJMRV8zRD1mYWxzZTs8L3NjcmlwdD4KICAgIDxzY3JpcHQgc3JjPSJodHRwczovL2Nkbi5qc2RlbGl2ci5uZXQvbnBtL2xlYWZsZXRAMS40LjAvZGlzdC9sZWFmbGV0LmpzIj48L3NjcmlwdD4KICAgIDxzY3JpcHQgc3JjPSJodHRwczovL2NvZGUuanF1ZXJ5LmNvbS9qcXVlcnktMS4xMi40Lm1pbi5qcyI+PC9zY3JpcHQ+CiAgICA8c2NyaXB0IHNyYz0iaHR0cHM6Ly9tYXhjZG4uYm9vdHN0cmFwY2RuLmNvbS9ib290c3RyYXAvMy4yLjAvanMvYm9vdHN0cmFwLm1pbi5qcyI+PC9zY3JpcHQ+CiAgICA8c2NyaXB0IHNyYz0iaHR0cHM6Ly9jZG5qcy5jbG91ZGZsYXJlLmNvbS9hamF4L2xpYnMvTGVhZmxldC5hd2Vzb21lLW1hcmtlcnMvMi4wLjIvbGVhZmxldC5hd2Vzb21lLW1hcmtlcnMuanMiPjwvc2NyaXB0PgogICAgPGxpbmsgcmVsPSJzdHlsZXNoZWV0IiBocmVmPSJodHRwczovL2Nkbi5qc2RlbGl2ci5uZXQvbnBtL2xlYWZsZXRAMS40LjAvZGlzdC9sZWFmbGV0LmNzcyIvPgogICAgPGxpbmsgcmVsPSJzdHlsZXNoZWV0IiBocmVmPSJodHRwczovL21heGNkbi5ib290c3RyYXBjZG4uY29tL2Jvb3RzdHJhcC8zLjIuMC9jc3MvYm9vdHN0cmFwLm1pbi5jc3MiLz4KICAgIDxsaW5rIHJlbD0ic3R5bGVzaGVldCIgaHJlZj0iaHR0cHM6Ly9tYXhjZG4uYm9vdHN0cmFwY2RuLmNvbS9ib290c3RyYXAvMy4yLjAvY3NzL2Jvb3RzdHJhcC10aGVtZS5taW4uY3NzIi8+CiAgICA8bGluayByZWw9InN0eWxlc2hlZXQiIGhyZWY9Imh0dHBzOi8vbWF4Y2RuLmJvb3RzdHJhcGNkbi5jb20vZm9udC1hd2Vzb21lLzQuNi4zL2Nzcy9mb250LWF3ZXNvbWUubWluLmNzcyIvPgogICAgPGxpbmsgcmVsPSJzdHlsZXNoZWV0IiBocmVmPSJodHRwczovL2NkbmpzLmNsb3VkZmxhcmUuY29tL2FqYXgvbGlicy9MZWFmbGV0LmF3ZXNvbWUtbWFya2Vycy8yLjAuMi9sZWFmbGV0LmF3ZXNvbWUtbWFya2Vycy5jc3MiLz4KICAgIDxsaW5rIHJlbD0ic3R5bGVzaGVldCIgaHJlZj0iaHR0cHM6Ly9yYXdjZG4uZ2l0aGFjay5jb20vcHl0aG9uLXZpc3VhbGl6YXRpb24vZm9saXVtL21hc3Rlci9mb2xpdW0vdGVtcGxhdGVzL2xlYWZsZXQuYXdlc29tZS5yb3RhdGUuY3NzIi8+CiAgICA8c3R5bGU+aHRtbCwgYm9keSB7d2lkdGg6IDEwMCU7aGVpZ2h0OiAxMDAlO21hcmdpbjogMDtwYWRkaW5nOiAwO308L3N0eWxlPgogICAgPHN0eWxlPiNtYXAge3Bvc2l0aW9uOmFic29sdXRlO3RvcDowO2JvdHRvbTowO3JpZ2h0OjA7bGVmdDowO308L3N0eWxlPgogICAgCiAgICA8bWV0YSBuYW1lPSJ2aWV3cG9ydCIgY29udGVudD0id2lkdGg9ZGV2aWNlLXdpZHRoLAogICAgICAgIGluaXRpYWwtc2NhbGU9MS4wLCBtYXhpbXVtLXNjYWxlPTEuMCwgdXNlci1zY2FsYWJsZT1ubyIgLz4KICAgIDxzdHlsZT4jbWFwXzg1YzZjOWJmOGM3MzQ5NWFhODMyMjI5Mzg1MDBhZDkwIHsKICAgICAgICBwb3NpdGlvbjogcmVsYXRpdmU7CiAgICAgICAgd2lkdGg6IDEwMC4wJTsKICAgICAgICBoZWlnaHQ6IDEwMC4wJTsKICAgICAgICBsZWZ0OiAwLjAlOwogICAgICAgIHRvcDogMC4wJTsKICAgICAgICB9CiAgICA8L3N0eWxlPgo8L2hlYWQ+Cjxib2R5PiAgICAKICAgIAogICAgPGRpdiBjbGFzcz0iZm9saXVtLW1hcCIgaWQ9Im1hcF84NWM2YzliZjhjNzM0OTVhYTgzMjIyOTM4NTAwYWQ5MCIgPjwvZGl2Pgo8L2JvZHk+CjxzY3JpcHQ+ICAgIAogICAgCiAgICAKICAgICAgICB2YXIgYm91bmRzID0gbnVsbDsKICAgIAoKICAgIHZhciBtYXBfODVjNmM5YmY4YzczNDk1YWE4MzIyMjkzODUwMGFkOTAgPSBMLm1hcCgKICAgICAgICAnbWFwXzg1YzZjOWJmOGM3MzQ5NWFhODMyMjI5Mzg1MDBhZDkwJywgewogICAgICAgIGNlbnRlcjogWzQyLjg4NjQsIC03OC44Nzg0XSwKICAgICAgICB6b29tOiA0LAogICAgICAgIG1heEJvdW5kczogYm91bmRzLAogICAgICAgIGxheWVyczogW10sCiAgICAgICAgd29ybGRDb3B5SnVtcDogZmFsc2UsCiAgICAgICAgY3JzOiBMLkNSUy5FUFNHMzg1NywKICAgICAgICB6b29tQ29udHJvbDogdHJ1ZSwKICAgICAgICB9KTsKCgogICAgCiAgICB2YXIgdGlsZV9sYXllcl8yZWNlZTRlZDA5ZTI0OTNjYTlkMGJiNGY4ZjdkNjQ1NCA9IEwudGlsZUxheWVyKAogICAgICAgICdodHRwczovL3tzfS50aWxlLm9wZW5zdHJlZXRtYXAub3JnL3t6fS97eH0ve3l9LnBuZycsCiAgICAgICAgewogICAgICAgICJhdHRyaWJ1dGlvbiI6IG51bGwsCiAgICAgICAgImRldGVjdFJldGluYSI6IGZhbHNlLAogICAgICAgICJtYXhOYXRpdmVab29tIjogMTgsCiAgICAgICAgIm1heFpvb20iOiAxOCwKICAgICAgICAibWluWm9vbSI6IDAsCiAgICAgICAgIm5vV3JhcCI6IGZhbHNlLAogICAgICAgICJvcGFjaXR5IjogMSwKICAgICAgICAic3ViZG9tYWlucyI6ICJhYmMiLAogICAgICAgICJ0bXMiOiBmYWxzZQp9KS5hZGRUbyhtYXBfODVjNmM5YmY4YzczNDk1YWE4MzIyMjkzODUwMGFkOTApOwo8L3NjcmlwdD4=\" style=\"position:absolute;width:100%;height:100%;left:0;top:0;border:none !important;\" allowfullscreen webkitallowfullscreen mozallowfullscreen></iframe></div></div>"
            ],
            "text/plain": [
              "<folium.folium.Map at 0x7efe7b66d8d0>"
            ]
          },
          "metadata": {
            "tags": []
          },
          "execution_count": 3
        }
      ]
    },
    {
      "cell_type": "code",
      "metadata": {
        "id": "zwSquOMi1zJI",
        "colab_type": "code",
        "outputId": "324a84aa-e46e-4128-90aa-8a97989f60ab",
        "colab": {
          "base_uri": "https://localhost:8080/",
          "height": 915
        }
      },
      "source": [
        "# define the world map centered around Buffalo with a low zoom level\n",
        "world_map = folium.Map(location=[42.8864, -78.8784], zoom_start=12)\n",
        "\n",
        "# display world map\n",
        "world_map"
      ],
      "execution_count": 0,
      "outputs": [
        {
          "output_type": "execute_result",
          "data": {
            "text/html": [
              "<div style=\"width:100%;\"><div style=\"position:relative;width:100%;height:0;padding-bottom:60%;\"><iframe src=\"data:text/html;charset=utf-8;base64,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\" style=\"position:absolute;width:100%;height:100%;left:0;top:0;border:none !important;\" allowfullscreen webkitallowfullscreen mozallowfullscreen></iframe></div></div>"
            ],
            "text/plain": [
              "<folium.folium.Map at 0x7efe7b65deb8>"
            ]
          },
          "metadata": {
            "tags": []
          },
          "execution_count": 4
        }
      ]
    },
    {
      "cell_type": "code",
      "metadata": {
        "id": "SXNIKe9K11tK",
        "colab_type": "code",
        "colab": {}
      },
      "source": [
        "world_geo = r'world_countries.json' # geojson file\n",
        "\n",
        "# create a plain world map\n",
        "world_map = folium.Map(location=[0, 0], zoom_start=2, tiles='Mapbox Bright')"
      ],
      "execution_count": 0,
      "outputs": []
    },
    {
      "cell_type": "code",
      "metadata": {
        "id": "HNTJMGdD1-q7",
        "colab_type": "code",
        "colab": {}
      },
      "source": [
        "df_buffalo_map=pd.read_csv('/content/Buffalo population density - Sheet2.csv')"
      ],
      "execution_count": 0,
      "outputs": []
    },
    {
      "cell_type": "code",
      "metadata": {
        "id": "UwjLRznA5IIf",
        "colab_type": "code",
        "outputId": "78f11d0d-dc2b-4159-adca-dc766f54c084",
        "colab": {
          "base_uri": "https://localhost:8080/",
          "height": 1000
        }
      },
      "source": [
        "df_buffalo_map"
      ],
      "execution_count": 0,
      "outputs": [
        {
          "output_type": "execute_result",
          "data": {
            "text/html": [
              "<div>\n",
              "<style scoped>\n",
              "    .dataframe tbody tr th:only-of-type {\n",
              "        vertical-align: middle;\n",
              "    }\n",
              "\n",
              "    .dataframe tbody tr th {\n",
              "        vertical-align: top;\n",
              "    }\n",
              "\n",
              "    .dataframe thead th {\n",
              "        text-align: right;\n",
              "    }\n",
              "</style>\n",
              "<table border=\"1\" class=\"dataframe\">\n",
              "  <thead>\n",
              "    <tr style=\"text-align: right;\">\n",
              "      <th></th>\n",
              "      <th>Subdivision</th>\n",
              "      <th>Latitudes</th>\n",
              "      <th>Longitudes</th>\n",
              "      <th>Density (/mi^2)</th>\n",
              "    </tr>\n",
              "  </thead>\n",
              "  <tbody>\n",
              "    <tr>\n",
              "      <th>0</th>\n",
              "      <td>Buffalo</td>\n",
              "      <td>42.886400</td>\n",
              "      <td>-78.878400</td>\n",
              "      <td>6,413</td>\n",
              "    </tr>\n",
              "    <tr>\n",
              "      <th>1</th>\n",
              "      <td>Tonawanda</td>\n",
              "      <td>43.020300</td>\n",
              "      <td>-78.880300</td>\n",
              "      <td>3,941</td>\n",
              "    </tr>\n",
              "    <tr>\n",
              "      <th>2</th>\n",
              "      <td>Town of Tonawanda</td>\n",
              "      <td>42.989100</td>\n",
              "      <td>-78.872200</td>\n",
              "      <td>3,904</td>\n",
              "    </tr>\n",
              "    <tr>\n",
              "      <th>3</th>\n",
              "      <td>North Tonawanda</td>\n",
              "      <td>43.038700</td>\n",
              "      <td>-78.864200</td>\n",
              "      <td>3,063</td>\n",
              "    </tr>\n",
              "    <tr>\n",
              "      <th>4</th>\n",
              "      <td>Niagara Falls</td>\n",
              "      <td>43.096200</td>\n",
              "      <td>-79.037700</td>\n",
              "      <td>3,491</td>\n",
              "    </tr>\n",
              "    <tr>\n",
              "      <th>5</th>\n",
              "      <td>Town of Cheektowaga</td>\n",
              "      <td>42.907100</td>\n",
              "      <td>-78.754300</td>\n",
              "      <td>2,976</td>\n",
              "    </tr>\n",
              "    <tr>\n",
              "      <th>6</th>\n",
              "      <td>Lackawanna</td>\n",
              "      <td>42.825600</td>\n",
              "      <td>-78.823400</td>\n",
              "      <td>2,738</td>\n",
              "    </tr>\n",
              "    <tr>\n",
              "      <th>7</th>\n",
              "      <td>Lockport</td>\n",
              "      <td>43.170600</td>\n",
              "      <td>-78.690300</td>\n",
              "      <td>2,467</td>\n",
              "    </tr>\n",
              "    <tr>\n",
              "      <th>8</th>\n",
              "      <td>Town of Amherst</td>\n",
              "      <td>42.979000</td>\n",
              "      <td>-78.792300</td>\n",
              "      <td>2,343</td>\n",
              "    </tr>\n",
              "    <tr>\n",
              "      <th>9</th>\n",
              "      <td>Town of West Seneca</td>\n",
              "      <td>42.835898</td>\n",
              "      <td>-78.753890</td>\n",
              "      <td>2,116</td>\n",
              "    </tr>\n",
              "    <tr>\n",
              "      <th>10</th>\n",
              "      <td>Town of Hamburg</td>\n",
              "      <td>42.715900</td>\n",
              "      <td>-78.829500</td>\n",
              "      <td>1,402</td>\n",
              "    </tr>\n",
              "    <tr>\n",
              "      <th>11</th>\n",
              "      <td>Town of Lancaster</td>\n",
              "      <td>42.901200</td>\n",
              "      <td>-78.670200</td>\n",
              "      <td>1,133</td>\n",
              "    </tr>\n",
              "    <tr>\n",
              "      <th>12</th>\n",
              "      <td>Town of Niagara</td>\n",
              "      <td>43.115300</td>\n",
              "      <td>-78.985400</td>\n",
              "      <td>863</td>\n",
              "    </tr>\n",
              "    <tr>\n",
              "      <th>13</th>\n",
              "      <td>Town of Orchard Park</td>\n",
              "      <td>42.767500</td>\n",
              "      <td>-78.744100</td>\n",
              "      <td>768</td>\n",
              "    </tr>\n",
              "    <tr>\n",
              "      <th>14</th>\n",
              "      <td>Town of Grand Island</td>\n",
              "      <td>43.018300</td>\n",
              "      <td>-79.013400</td>\n",
              "      <td>733</td>\n",
              "    </tr>\n",
              "    <tr>\n",
              "      <th>15</th>\n",
              "      <td>Town of Wheatfield</td>\n",
              "      <td>43.085500</td>\n",
              "      <td>-78.894000</td>\n",
              "      <td>655</td>\n",
              "    </tr>\n",
              "    <tr>\n",
              "      <th>16</th>\n",
              "      <td>Town of Clarence</td>\n",
              "      <td>42.976670</td>\n",
              "      <td>-78.591940</td>\n",
              "      <td>592</td>\n",
              "    </tr>\n",
              "    <tr>\n",
              "      <th>17</th>\n",
              "      <td>Town of Lockport</td>\n",
              "      <td>43.141500</td>\n",
              "      <td>-78.668200</td>\n",
              "      <td>451</td>\n",
              "    </tr>\n",
              "    <tr>\n",
              "      <th>18</th>\n",
              "      <td>Town of Lewiston</td>\n",
              "      <td>43.191900</td>\n",
              "      <td>-78.985400</td>\n",
              "      <td>432</td>\n",
              "    </tr>\n",
              "    <tr>\n",
              "      <th>19</th>\n",
              "      <td>Town of Evans</td>\n",
              "      <td>42.663900</td>\n",
              "      <td>-78.996700</td>\n",
              "      <td>392</td>\n",
              "    </tr>\n",
              "    <tr>\n",
              "      <th>20</th>\n",
              "      <td>Town of Aurora</td>\n",
              "      <td>42.767700</td>\n",
              "      <td>-78.613300</td>\n",
              "      <td>380</td>\n",
              "    </tr>\n",
              "    <tr>\n",
              "      <th>21</th>\n",
              "      <td>Town of Elma</td>\n",
              "      <td>42.821390</td>\n",
              "      <td>-78.636940</td>\n",
              "      <td>339</td>\n",
              "    </tr>\n",
              "    <tr>\n",
              "      <th>22</th>\n",
              "      <td>Town of Alden</td>\n",
              "      <td>42.939600</td>\n",
              "      <td>-78.548700</td>\n",
              "      <td>298</td>\n",
              "    </tr>\n",
              "    <tr>\n",
              "      <th>23</th>\n",
              "      <td>Town of Pendleton</td>\n",
              "      <td>43.086940</td>\n",
              "      <td>-78.727780</td>\n",
              "      <td>242</td>\n",
              "    </tr>\n",
              "    <tr>\n",
              "      <th>24</th>\n",
              "      <td>Town of Boston</td>\n",
              "      <td>42.652800</td>\n",
              "      <td>-78.745200</td>\n",
              "      <td>224</td>\n",
              "    </tr>\n",
              "    <tr>\n",
              "      <th>25</th>\n",
              "      <td>Town of Porter</td>\n",
              "      <td>43.145900</td>\n",
              "      <td>-78.595300</td>\n",
              "      <td>201</td>\n",
              "    </tr>\n",
              "    <tr>\n",
              "      <th>26</th>\n",
              "      <td>Town of Marilla</td>\n",
              "      <td>42.840060</td>\n",
              "      <td>-78.555024</td>\n",
              "      <td>195</td>\n",
              "    </tr>\n",
              "    <tr>\n",
              "      <th>27</th>\n",
              "      <td>Town of Eden</td>\n",
              "      <td>42.652100</td>\n",
              "      <td>-78.895500</td>\n",
              "      <td>193</td>\n",
              "    </tr>\n",
              "    <tr>\n",
              "      <th>28</th>\n",
              "      <td>Town of Newfane</td>\n",
              "      <td>43.282400</td>\n",
              "      <td>-78.707600</td>\n",
              "      <td>182</td>\n",
              "    </tr>\n",
              "    <tr>\n",
              "      <th>29</th>\n",
              "      <td>Town of Newstead</td>\n",
              "      <td>43.011700</td>\n",
              "      <td>-78.514200</td>\n",
              "      <td>171</td>\n",
              "    </tr>\n",
              "    <tr>\n",
              "      <th>30</th>\n",
              "      <td>Town of Cambria</td>\n",
              "      <td>43.163600</td>\n",
              "      <td>-78.819500</td>\n",
              "      <td>147</td>\n",
              "    </tr>\n",
              "    <tr>\n",
              "      <th>31</th>\n",
              "      <td>Town of Collins</td>\n",
              "      <td>42.495400</td>\n",
              "      <td>-78.919800</td>\n",
              "      <td>137</td>\n",
              "    </tr>\n",
              "    <tr>\n",
              "      <th>32</th>\n",
              "      <td>Town of Concord</td>\n",
              "      <td>42.337800</td>\n",
              "      <td>-78.420000</td>\n",
              "      <td>122</td>\n",
              "    </tr>\n",
              "    <tr>\n",
              "      <th>33</th>\n",
              "      <td>Town of Wilson</td>\n",
              "      <td>43.309800</td>\n",
              "      <td>-78.826100</td>\n",
              "      <td>120</td>\n",
              "    </tr>\n",
              "    <tr>\n",
              "      <th>34</th>\n",
              "      <td>Tuscarora Nation Reservation</td>\n",
              "      <td>43.158400</td>\n",
              "      <td>-78.941400</td>\n",
              "      <td>111</td>\n",
              "    </tr>\n",
              "    <tr>\n",
              "      <th>35</th>\n",
              "      <td>Town of Royalton</td>\n",
              "      <td>43.102400</td>\n",
              "      <td>-78.323900</td>\n",
              "      <td>108</td>\n",
              "    </tr>\n",
              "    <tr>\n",
              "      <th>36</th>\n",
              "      <td>Town of Holland</td>\n",
              "      <td>42.382800</td>\n",
              "      <td>-78.322800</td>\n",
              "      <td>94</td>\n",
              "    </tr>\n",
              "    <tr>\n",
              "      <th>37</th>\n",
              "      <td>Town of Colden</td>\n",
              "      <td>42.383900</td>\n",
              "      <td>-78.410500</td>\n",
              "      <td>92</td>\n",
              "    </tr>\n",
              "    <tr>\n",
              "      <th>38</th>\n",
              "      <td>Town of Brant</td>\n",
              "      <td>42.588400</td>\n",
              "      <td>-79.015200</td>\n",
              "      <td>87</td>\n",
              "    </tr>\n",
              "    <tr>\n",
              "      <th>39</th>\n",
              "      <td>Town of Wales</td>\n",
              "      <td>42.767900</td>\n",
              "      <td>-78.527300</td>\n",
              "      <td>85</td>\n",
              "    </tr>\n",
              "    <tr>\n",
              "      <th>40</th>\n",
              "      <td>Town of North Collin</td>\n",
              "      <td>42.354200</td>\n",
              "      <td>-78.562800</td>\n",
              "      <td>82</td>\n",
              "    </tr>\n",
              "    <tr>\n",
              "      <th>41</th>\n",
              "      <td>Town of Hartland</td>\n",
              "      <td>43.242100</td>\n",
              "      <td>-78.532800</td>\n",
              "      <td>77</td>\n",
              "    </tr>\n",
              "    <tr>\n",
              "      <th>42</th>\n",
              "      <td>Town of Somerset</td>\n",
              "      <td>43.347683</td>\n",
              "      <td>-78.555656</td>\n",
              "      <td>74</td>\n",
              "    </tr>\n",
              "    <tr>\n",
              "      <th>43</th>\n",
              "      <td>Cattaraugus Reservation</td>\n",
              "      <td>42.550900</td>\n",
              "      <td>-79.038600</td>\n",
              "      <td>74</td>\n",
              "    </tr>\n",
              "    <tr>\n",
              "      <th>44</th>\n",
              "      <td>Town of Sardinia</td>\n",
              "      <td>42.332300</td>\n",
              "      <td>-78.315200</td>\n",
              "      <td>55</td>\n",
              "    </tr>\n",
              "    <tr>\n",
              "      <th>45</th>\n",
              "      <td>Tonawanda Reservation</td>\n",
              "      <td>43.072300</td>\n",
              "      <td>-78.447200</td>\n",
              "      <td>2</td>\n",
              "    </tr>\n",
              "  </tbody>\n",
              "</table>\n",
              "</div>"
            ],
            "text/plain": [
              "                     Subdivision  Latitudes  Longitudes Density (/mi^2)\n",
              "0                        Buffalo  42.886400  -78.878400           6,413\n",
              "1                      Tonawanda  43.020300  -78.880300           3,941\n",
              "2              Town of Tonawanda  42.989100  -78.872200           3,904\n",
              "3                North Tonawanda  43.038700  -78.864200           3,063\n",
              "4                  Niagara Falls  43.096200  -79.037700           3,491\n",
              "5            Town of Cheektowaga  42.907100  -78.754300           2,976\n",
              "6                     Lackawanna  42.825600  -78.823400           2,738\n",
              "7                       Lockport  43.170600  -78.690300           2,467\n",
              "8                Town of Amherst  42.979000  -78.792300           2,343\n",
              "9            Town of West Seneca  42.835898  -78.753890           2,116\n",
              "10               Town of Hamburg  42.715900  -78.829500           1,402\n",
              "11             Town of Lancaster  42.901200  -78.670200           1,133\n",
              "12               Town of Niagara  43.115300  -78.985400             863\n",
              "13          Town of Orchard Park  42.767500  -78.744100             768\n",
              "14          Town of Grand Island  43.018300  -79.013400             733\n",
              "15            Town of Wheatfield  43.085500  -78.894000             655\n",
              "16              Town of Clarence  42.976670  -78.591940             592\n",
              "17              Town of Lockport  43.141500  -78.668200             451\n",
              "18              Town of Lewiston  43.191900  -78.985400             432\n",
              "19                 Town of Evans  42.663900  -78.996700             392\n",
              "20                Town of Aurora  42.767700  -78.613300             380\n",
              "21                  Town of Elma  42.821390  -78.636940             339\n",
              "22                 Town of Alden  42.939600  -78.548700             298\n",
              "23             Town of Pendleton  43.086940  -78.727780             242\n",
              "24                Town of Boston  42.652800  -78.745200             224\n",
              "25                Town of Porter  43.145900  -78.595300             201\n",
              "26               Town of Marilla  42.840060  -78.555024             195\n",
              "27                  Town of Eden  42.652100  -78.895500             193\n",
              "28               Town of Newfane  43.282400  -78.707600             182\n",
              "29              Town of Newstead  43.011700  -78.514200             171\n",
              "30               Town of Cambria  43.163600  -78.819500             147\n",
              "31               Town of Collins  42.495400  -78.919800             137\n",
              "32               Town of Concord  42.337800  -78.420000             122\n",
              "33                Town of Wilson  43.309800  -78.826100             120\n",
              "34  Tuscarora Nation Reservation  43.158400  -78.941400             111\n",
              "35              Town of Royalton  43.102400  -78.323900             108\n",
              "36               Town of Holland  42.382800  -78.322800              94\n",
              "37                Town of Colden  42.383900  -78.410500              92\n",
              "38                 Town of Brant  42.588400  -79.015200              87\n",
              "39                 Town of Wales  42.767900  -78.527300              85\n",
              "40          Town of North Collin  42.354200  -78.562800              82\n",
              "41              Town of Hartland  43.242100  -78.532800              77\n",
              "42              Town of Somerset  43.347683  -78.555656              74\n",
              "43       Cattaraugus Reservation  42.550900  -79.038600              74\n",
              "44              Town of Sardinia  42.332300  -78.315200              55\n",
              "45         Tonawanda Reservation  43.072300  -78.447200               2"
            ]
          },
          "metadata": {
            "tags": []
          },
          "execution_count": 7
        }
      ]
    },
    {
      "cell_type": "code",
      "metadata": {
        "id": "a8xJ7cnM6aPY",
        "colab_type": "code",
        "outputId": "b0804fb8-48e1-47a3-e6a7-f21763f6ce81",
        "colab": {
          "base_uri": "https://localhost:8080/",
          "height": 34
        }
      },
      "source": [
        "df_buffalo_map.shape"
      ],
      "execution_count": 0,
      "outputs": [
        {
          "output_type": "execute_result",
          "data": {
            "text/plain": [
              "(46, 4)"
            ]
          },
          "metadata": {
            "tags": []
          },
          "execution_count": 8
        }
      ]
    },
    {
      "cell_type": "code",
      "metadata": {
        "id": "uufNrRwD8TWk",
        "colab_type": "code",
        "colab": {}
      },
      "source": [
        "limit = 100\n",
        "df_buffalo_map = df_buffalo_map.iloc[0:limit, :]"
      ],
      "execution_count": 0,
      "outputs": []
    },
    {
      "cell_type": "code",
      "metadata": {
        "id": "UYbaKtTw8eLw",
        "colab_type": "code",
        "outputId": "1c45e615-f000-4509-9304-8bd2ca5b48ee",
        "colab": {
          "base_uri": "https://localhost:8080/",
          "height": 34
        }
      },
      "source": [
        "df_buffalo_map.shape"
      ],
      "execution_count": 0,
      "outputs": [
        {
          "output_type": "execute_result",
          "data": {
            "text/plain": [
              "(46, 4)"
            ]
          },
          "metadata": {
            "tags": []
          },
          "execution_count": 10
        }
      ]
    },
    {
      "cell_type": "code",
      "metadata": {
        "id": "tTX-fDdpim9O",
        "colab_type": "code",
        "outputId": "82e9f49a-d59a-47ab-c728-f764927b42c6",
        "colab": {
          "base_uri": "https://localhost:8080/",
          "height": 102
        }
      },
      "source": [
        "df_buffalo_map.dtypes"
      ],
      "execution_count": 0,
      "outputs": [
        {
          "output_type": "execute_result",
          "data": {
            "text/plain": [
              "Subdivision         object\n",
              "Latitudes          float64\n",
              "Longitudes         float64\n",
              "Density (/mi^2)     object\n",
              "dtype: object"
            ]
          },
          "metadata": {
            "tags": []
          },
          "execution_count": 11
        }
      ]
    },
    {
      "cell_type": "code",
      "metadata": {
        "id": "V4anp3Fa6gwU",
        "colab_type": "code",
        "outputId": "2e40f3d0-04b0-4ae1-fe67-0717578b6da2",
        "colab": {
          "base_uri": "https://localhost:8080/",
          "height": 34
        }
      },
      "source": [
        "# instantiate a feature group for the incidents in the dataframe\n",
        "buffalo_map = folium.map.FeatureGroup()\n",
        "\n",
        "# loop through the 100 crimes and add each to the incidents feature group\n",
        "for lat, lng in zip(df_buffalo_map['Latitudes'], df_buffalo_map['Longitudes']):\n",
        "    buffalo_map.add_child(\n",
        "        folium.CircleMarker(\n",
        "            [lat, lng],\n",
        "            radius=5, # define how big you want the circle markers to be\n",
        "            color='yellow',\n",
        "            fill=True,\n",
        "            fill_color='blue',\n",
        "            fill_opacity=0.6\n",
        "        )\n",
        "    )\n",
        "\n",
        "# add pop-up text to each marker on the map\n",
        "latitudes = list(df_buffalo_map.Latitudes)\n",
        "longitudes = list(df_buffalo_map.Longitudes)\n",
        "labels = list(df_buffalo_map['Density (/mi^2)'])\n",
        "\n",
        "for lat, lng, label in zip(latitudes, longitudes, labels):\n",
        "    folium.Marker([lat, lng], popup=label).add_to(buffalo_map)    \n",
        "    \n",
        "# add incidents to map\n",
        "buffalo_map.add_child(buffalo_map)"
      ],
      "execution_count": 0,
      "outputs": [
        {
          "output_type": "execute_result",
          "data": {
            "text/plain": [
              "<folium.map.FeatureGroup at 0x7efe7b5e40f0>"
            ]
          },
          "metadata": {
            "tags": []
          },
          "execution_count": 12
        }
      ]
    },
    {
      "cell_type": "code",
      "metadata": {
        "id": "3eCZ8Ah67t9u",
        "colab_type": "code",
        "outputId": "f93fea87-94dc-4904-aafb-3d002a903076",
        "colab": {
          "base_uri": "https://localhost:8080/",
          "height": 231
        }
      },
      "source": [
        "# create map and display it\n",
        "df_buffalo_map = folium.Map(location=[latitudes, longitudes], zoom_start=12)\n",
        "\n",
        "# loop through the 100 crimes and add each to the map\n",
        "for lat, lng in zip(df_buffalo_map['Latitudes'], df_buffalo_map['Longitudes']):\n",
        "    folium.features.CircleMarker(\n",
        "        [lat, lng],\n",
        "        radius=5, # define how big you want the circle markers to be\n",
        "        color='yellow',\n",
        "        fill=True,\n",
        "        popup=label,\n",
        "        fill_color='blue',\n",
        "        fill_opacity=0.6\n",
        "    ).add_to(buffalo_map)\n",
        "\n",
        "\n",
        "# show map\n",
        "buffalo_map"
      ],
      "execution_count": 0,
      "outputs": [
        {
          "output_type": "error",
          "ename": "TypeError",
          "evalue": "ignored",
          "traceback": [
            "\u001b[0;31m---------------------------------------------------------------------------\u001b[0m",
            "\u001b[0;31mTypeError\u001b[0m                                 Traceback (most recent call last)",
            "\u001b[0;32m<ipython-input-16-17e067551cac>\u001b[0m in \u001b[0;36m<module>\u001b[0;34m()\u001b[0m\n\u001b[1;32m      2\u001b[0m \u001b[0;34m\u001b[0m\u001b[0m\n\u001b[1;32m      3\u001b[0m \u001b[0;31m# loop through the 100 crimes and add each to the map\u001b[0m\u001b[0;34m\u001b[0m\u001b[0;34m\u001b[0m\u001b[0;34m\u001b[0m\u001b[0m\n\u001b[0;32m----> 4\u001b[0;31m \u001b[0;32mfor\u001b[0m \u001b[0mlat\u001b[0m\u001b[0;34m,\u001b[0m \u001b[0mlng\u001b[0m \u001b[0;32min\u001b[0m \u001b[0mzip\u001b[0m\u001b[0;34m(\u001b[0m\u001b[0mdf_buffalo_map\u001b[0m\u001b[0;34m[\u001b[0m\u001b[0;34m'Latitudes'\u001b[0m\u001b[0;34m]\u001b[0m\u001b[0;34m,\u001b[0m \u001b[0mdf_buffalo_map\u001b[0m\u001b[0;34m[\u001b[0m\u001b[0;34m'Longitudes'\u001b[0m\u001b[0;34m]\u001b[0m\u001b[0;34m)\u001b[0m\u001b[0;34m:\u001b[0m\u001b[0;34m\u001b[0m\u001b[0;34m\u001b[0m\u001b[0m\n\u001b[0m\u001b[1;32m      5\u001b[0m     folium.features.CircleMarker(\n\u001b[1;32m      6\u001b[0m         \u001b[0;34m[\u001b[0m\u001b[0mlat\u001b[0m\u001b[0;34m,\u001b[0m \u001b[0mlng\u001b[0m\u001b[0;34m]\u001b[0m\u001b[0;34m,\u001b[0m\u001b[0;34m\u001b[0m\u001b[0;34m\u001b[0m\u001b[0m\n",
            "\u001b[0;31mTypeError\u001b[0m: 'Map' object is not subscriptable"
          ]
        }
      ]
    },
    {
      "cell_type": "code",
      "metadata": {
        "id": "zwVgYCM9yiqh",
        "colab_type": "code",
        "outputId": "d0c5f78a-a298-4a04-e972-ba4d440c1c22",
        "colab": {
          "base_uri": "https://localhost:8080/",
          "height": 129
        }
      },
      "source": [
        "from folium import plugins\n",
        "\n",
        "# let's start again with a clean copy of the map of San Francisco\n",
        "buffalo_map = folium.Map(location = [latitude, longitude], zoom_start = 12)\n",
        "\n",
        "# instantiate a mark cluster object for the incidents in the dataframe\n",
        "buff2 = plugins.MarkerCluster().add_to(sanfranbuffalo\n",
        "# loop through the dataframe and add each data point to the mark cluster\n",
        "for lat, lng, in zip(df_buffalo_map['Latitudes'], df_buffalo_map['Longitudes'])\n",
        "buffalo_map.add_child(\n",
        "    folium.Marker(\n",
        "        location=[lat, lng],\n",
        "        icon=None,\n",
        "        popup=label,\n",
        "    ).add_to(buff2)\n",
        "\n",
        "# display map\n",
        "buffalo_map"
      ],
      "execution_count": 0,
      "outputs": [
        {
          "output_type": "error",
          "ename": "SyntaxError",
          "evalue": "ignored",
          "traceback": [
            "\u001b[0;36m  File \u001b[0;32m\"<ipython-input-17-ebfdf022f9fd>\"\u001b[0;36m, line \u001b[0;32m10\u001b[0m\n\u001b[0;31m    buffalo_map.add_child(\u001b[0m\n\u001b[0m              ^\u001b[0m\n\u001b[0;31mSyntaxError\u001b[0m\u001b[0;31m:\u001b[0m invalid syntax\n"
          ]
        }
      ]
    },
    {
      "cell_type": "code",
      "metadata": {
        "id": "z090gJ-P-5Om",
        "colab_type": "code",
        "colab": {}
      },
      "source": [
        ""
      ],
      "execution_count": 0,
      "outputs": []
    }
  ]
}