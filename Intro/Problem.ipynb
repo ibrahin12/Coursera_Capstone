{
  "nbformat": 4,
  "nbformat_minor": 0,
  "metadata": {
    "colab": {
      "name": "Untitled0.ipynb",
      "provenance": [],
      "authorship_tag": "ABX9TyNjXChforGK+6rd38wVbKm+",
      "include_colab_link": true
    },
    "kernelspec": {
      "name": "python3",
      "display_name": "Python 3"
    }
  },
  "cells": [
    {
      "cell_type": "markdown",
      "metadata": {
        "id": "view-in-github",
        "colab_type": "text"
      },
      "source": [
        "<a href=\"https://colab.research.google.com/github/ibrahin12/Coursera_Capstone/blob/master/Intro/Problem.ipynb\" target=\"_parent\"><img src=\"https://colab.research.google.com/assets/colab-badge.svg\" alt=\"Open In Colab\"/></a>"
      ]
    },
    {
      "cell_type": "markdown",
      "metadata": {
        "id": "ri2dNy9dmxxs",
        "colab_type": "text"
      },
      "source": [
        "# 1. Introduction\n",
        "\n",
        "## 1a. Background:\n",
        "  Buffalo, NY is the second largest city in New York. Millions of people travel to Niagara Falls yearly to experience the scenery of the falls. Tourists can experience the falls up close in a take a boat ride. Niagara Falls provides a tourist attraction which is beneficial for businesses like restaurants and hotels since many will travel from across different states in the US to experience the falls.\n",
        "  In addition, Buffalo is a city of sports; it is home to the Buffalo Bills and Sabres. Sports fanatics are drawn to the city to watch these sports games whether it be in a stadium or a restaurant. This provides competition for businesses to offer wings, pizza, and drinks to appeal to the sports crowd. Buffalo Wings are known to have originated in Buffalo and are a popular food among sports fans. The first wings were believed to have been from a family owned restaurant known as Anchor Bar. Thus, this provides competition for nearby restaurants to provide food such as wings that will draw in consumers. \n",
        "\n",
        "## 1b. Problem:\n",
        "\n",
        "  There are many factors that need to be taken into consideration when determining where the best location is to open up a wing restaurant in Buffalo. Data that would be contributing to determine where to place a Buffalo wings restaurant is proximity to Niagara Falls. The proximity to Niagara Falls is an important location to consider because it is such a high tourist spot. In addition, proximity to other nearby restaurants or restaurants that are similar is another factor that needs to be considered. If someone wants to watch sports and grab quick food like wings they are likely to think of where other wing locations are and go there. Therefore, opening up a business that is nearby other similar businesses is a factor that needs to be considered. Thus, examining areas with high population densities and looking at venues under the list of postal codes obtained will help in deciding where to open up a Buffalo Wings restaurant. \n",
        "\n",
        "## 1c. Interest: \n",
        "\n",
        "   Tourists who are in Buffalo to see Niagara Falls would be interested in a nearby location to grab food and drinks that is quick and convenient and allows for them to experience traditional Buffalo wings. Furthermore, Buffalo is home to the Buffalo Bills and Buffalo Sabres, therefore, sports fanatics would be drawn to a place where they can have food and drinks and be able to watch the sports games. \n"
      ]
    },
    {
      "cell_type": "code",
      "metadata": {
        "id": "e0OZedVsm_H9",
        "colab_type": "code",
        "colab": {}
      },
      "source": [
        ""
      ],
      "execution_count": 0,
      "outputs": []
    }
  ]
}